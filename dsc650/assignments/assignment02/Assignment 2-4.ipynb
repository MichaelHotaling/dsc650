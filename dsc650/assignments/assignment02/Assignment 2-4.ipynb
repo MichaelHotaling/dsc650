{
 "cells": [
  {
   "cell_type": "code",
   "execution_count": 57,
   "id": "02c1fcb1",
   "metadata": {},
   "outputs": [],
   "source": [
    "import requests\n",
    "import json\n",
    "from urllib.error import HTTPError\n",
    "\n",
    "\n",
    "def wikidata_pull(query, output_file = 'results/wikidata-query.json'):\n",
    "    \"\"\"Performs a query on the Wikidata Query Service and saves the output to a file.\n",
    "    Keyword arguments:\n",
    "    \n",
    "    :query: SQL query \n",
    "        (str)\n",
    "    :output_file: directory and name of the desired output file \n",
    "        (str: default: results/wikidata-query.json)\n",
    "    \n",
    "    \"\"\"\n",
    "    url = 'https://query.wikidata.org/sparql'\n",
    "    r = requests.get(url, params = {'format': 'json', 'query': query})\n",
    "    r.raise_for_status()\n",
    "    data = r.json()\n",
    "    with open(output_file, 'w+') as file:\n",
    "        json.dump(data, file, indent=4, sort_keys=True)\n",
    "\n",
    "\n",
    "if __name__ == \"__main__\":\n",
    "        \n",
    "    query = '''\n",
    "    SELECT ?date ?event ?eventLabel \n",
    "    WHERE\n",
    "     {\n",
    "         # find events\n",
    "        ?event wdt:P31/wdt:P279* wd:Q1190554.\n",
    "        # with a point in time or start date\n",
    "        OPTIONAL { ?event wdt:P585 ?date. }\n",
    "        OPTIONAL { ?event wdt:P580 ?date. }\n",
    "        # but at least one of those\n",
    "        FILTER(BOUND(?date) && DATATYPE(?date) = xsd:dateTime).\n",
    "        # not in the future, and not more than 31 days ago\n",
    "        BIND(NOW() - ?date AS ?distance).\n",
    "        FILTER(0 <= ?distance && ?distance < 31).\n",
    "        # and get a label as well\n",
    "        OPTIONAL {\n",
    "            ?event rdfs:label ?eventLabel.\n",
    "            FILTER(LANG(?eventLabel) = \"en\").\n",
    "        }\n",
    "     }\n",
    "    # limit to 10 results so we don't timeout\n",
    "     LIMIT 5\n",
    "    '''\n",
    "\n",
    "    wikidata_pull(query)"
   ]
  }
 ],
 "metadata": {
  "kernelspec": {
   "display_name": "Python 3",
   "language": "python",
   "name": "python3"
  },
  "language_info": {
   "codemirror_mode": {
    "name": "ipython",
    "version": 3
   },
   "file_extension": ".py",
   "mimetype": "text/x-python",
   "name": "python",
   "nbconvert_exporter": "python",
   "pygments_lexer": "ipython3",
   "version": "3.7.10"
  }
 },
 "nbformat": 4,
 "nbformat_minor": 5
}
