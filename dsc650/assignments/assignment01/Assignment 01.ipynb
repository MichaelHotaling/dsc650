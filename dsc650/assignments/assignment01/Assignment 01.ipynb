{
 "cells": [
  {
   "cell_type": "markdown",
   "metadata": {},
   "source": [
    "---\n",
    "# Assignment 1\n",
    "# Computer performance, reliability, and scalability calculation\n",
    "# Michael Hotaling\n",
    "---"
   ]
  },
  {
   "cell_type": "markdown",
   "metadata": {},
   "source": [
    "## 1.2 \n",
    "\n",
    "#### a. Data Sizes\n",
    "\n",
    "| Data Item                                  | Size per Item                           | Sources                  |\n",
    "|--------------------------------------------|----------------------------------------:|------------------------:|\n",
    "| 128 character message.                     | 112 - 128 Bytes assuming ASCII encoding* |      [Source](https://toolstud.io/photo/megapixel.php?width=1024&height=768&compare=video&calculate=compressed#calculate)     |\n",
    "| 1024x768 PNG image                         | 1.5 MB on average*                      |      [Source](https://toolstud.io/photo/megapixel.php?width=1024&height=768&compare=video&calculate=compressed#calculate)     |\n",
    "| 1024x768 RAW image                         | 3MB                                     |      [Source](https://toolstud.io/photo/megapixel.php?width=1024&height=768&compare=video&calculate=uncompressed#calculate)   |\n",
    "| HD (1080p) HEVC Video (15 minutes)         | 300 MB                                  |      [Source](https://toolstud.io/video/filesize.php?dimensions_w=1920&dimensions_h=1080&framerate=29.97&timeduration=15&timeduration_unit=minutes)   |\n",
    "| HD (1080p) Uncompressed Video (15 minutes) | 8120 MB                                 |      [Source](https://toolstud.io/video/filesize.php?dimensions_w=1920&dimensions_h=1080&framerate=29.97&timeduration=15&timeduration_unit=minutes)                   |\n",
    "| 4K UHD HEVC Video (15 minutes)             | 1260 MB                                 |      [Source](https://toolstud.io/video/filesize.php?dimensions_w=3840&dimensions_h=2160&framerate=29.97&timeduration=15&timeduration_unit=minutes)                   |\n",
    "| 4k UHD Uncompressed Video (15 minutes)     | 76441MB                                 |      [Source](https://toolstud.io/video/filesize.php?dimensions_w=3840&dimensions_h=2160&framerate=29.97&timeduration=15&timeduration_unit=minutes)   |\n",
    "| Human Genome (Uncompressed)                | 200 GB                                  |  [Source](https://medium.com/precision-medicine/how-big-is-the-human-genome-e90caa3409b0)                       |\n",
    "\n",
    "#### b. Scaling\n",
    "Assuming 1TB hard drives are in use and no redundancy is set up. In normal cases, RAID is utilized to prevent data loss in case of hard drive failures, so multiple disks will be used for storage. I'll be assuming no redundnancy. To factor in redundancy, mulitplying the number of HDs by 2 should be a good estimate\n",
    "\n",
    "|                                           | Size     | # HD | Sources   |\n",
    "|-------------------------------------------|---------:|-----:|----------:|\n",
    "| Daily Twitter Tweets (Uncompressed)       | 93GB     | 1    |[Tweets/day](https://www.dsayce.com/social-media/tweets-day/) + [Memory/Tweet](https://stackoverflow.com/questions/5999821/how-many-bytes-of-memory-is-a-tweet/5999852)           | \n",
    "| Daily Twitter Tweets (Snappy Compressed)  | 58GB     | 1    | [Snappy at 1.6 compression ratio](https://bestofcpp.com/repo/lz4-lz4-cpp-compression)          |\n",
    "| Daily Instagram Photos                    | 25TB     | 25    | [995 photos/second](https://wouldyouhavethought.com/live-stats/photos-uploaded-on-instagram) + [2-4MB per Image](https://www.proximus.be/en/id_b_cr_data_usage_instagram/personal/blog/news/tips-and-tricks-from/data-usage-instagram.html)          |\n",
    "| Daily YouTube Videos                      | 3037 TB  | 3000   |  [720,000 Hours Video Uploaded Daily ](https://www.oberlo.com/blog/youtube-statistics) + [4.32GB per Hour](https://toolstud.io/video/filesize.php?width=1920&height=1080&framerate=29.97&timeduration=1&timeduration_unit=hours&compression=19290&specificbitrate=100&specificbitrate_unit=1000000)         |\n",
    "| Yearly Twitter Tweets (Uncompressed)      | 32TB       | 32      |  Previous x 365         |\n",
    "| Yearly Twitter Tweets (Snappy Compressed) | 20TB       | 20     |   Previous x 365        |\n",
    "| Yearly Instagram Photos                   | 9125TB     |9125      | Previous x 365          |\n",
    "| Yearly YouTube Videos                     | 1082PB     |1108687      |    Previous x 365       |\n",
    "\n",
    "#### c. Reliability\n",
    "\n",
    "\n",
    "Assuming annualized failure rate of [0.81%](https://www.backblaze.com/blog/backblaze-hard-drive-stats-q2-2020/)\n",
    "\n",
    "|                                    | # HD   | # Failures per Year |\n",
    "|------------------------------------|-------:|--------------------:|\n",
    "| Twitter Tweets (Uncompressed)      | 32     | 0.1                 |\n",
    "| Twitter Tweets (Snappy Compressed) | 20     | 0.1                 |\n",
    "| Instagram Photos                   | 9125   | 74                  |\n",
    "| YouTube Videos                     | 1108687| 891                 |\n",
    "\n",
    "#### d. Latency\n",
    "\n",
    "|                           | One Way Latency      | Sources              |\n",
    "|---------------------------|---------------------:|---------------------:|\n",
    "| Los Angeles to Amsterdam  | 70 ms                | [Average Ping / 2 ](https://wondernetwork.com/pings/Los%20Angeles/Amsterdam)                 |\n",
    "| Low Earth Orbit Satellite | 0.04 ms              | [Assuming 1000km Distance from Surface](https://www.omniaccess.com/leo/)                     |\n",
    "| Geostationary Satellite   | 60 ms                 | [Assuming 36,000km Distance from Surface](https://www.omniaccess.com/leo/)                     |\n",
    "| Earth to the Moon         | 1.3 seconds          | [Earth-Moon Distance/Lightspeed](https://www.wolframalpha.com/input/?i=%28distance+between+earth+and+moon%29%2Fspeed+of+light)                     |\n",
    "| Earth to Mars             | 19.31 minutes            |  [Earth-Mars Distance/Lightspeed](https://www.wolframalpha.com/input/?i=%28distance+between+earth+and+mars%29%2Fspeed+of+light)                    |"
   ]
  },
  {
   "cell_type": "markdown",
   "metadata": {},
   "source": [
    "## 1.2\n",
    "\n",
    "### a. Data Sizes\n",
    "\n",
    "#### 1) 128 Character Message.\n",
    "\n",
    "This depends on how the message is encoded:\n",
    "\n",
    "- An ASCII character in 8-bit ASCII encoding is 8 bits (1 byte), though it can fit in 7 bits.\n",
    "- An ISO-8895-1 character in ISO-8859-1 encoding is 8 bits (1 byte).\n",
    "- A Unicode character in UTF-8 encoding is between 8 bits (1 byte) and 32 bits (4 bytes).\n",
    "- A Unicode character in UTF-16 encoding is between 16 (2 bytes) and 32 bits (4 bytes), though most of the common characters take 16 bits. This is the encoding used by Windows internally.\n",
    "- A Unicode character in UTF-32 encoding is always 32 bits (4 bytes).\n",
    "- An ASCII character in UTF-8 is 8 bits (1 byte), and in UTF-16 - 16 bits.\n",
    "- The additional (non-ASCII) characters in ISO-8895-1 (0xA0-0xFF) would take 16 bits in UTF-8 and UTF-16."
   ]
  },
  {
   "cell_type": "code",
   "execution_count": 27,
   "metadata": {},
   "outputs": [
    {
     "name": "stdout",
     "output_type": "stream",
     "text": [
      "\n",
      "One morning, when Gregor Samsa woke from troubled dreams, he found himself transformed in his bed into a horrible vermin. He l\n",
      "\n",
      "length: 128 characters\n",
      "size: 177 bytes\n"
     ]
    }
   ],
   "source": [
    "import sys\n",
    "import string\n",
    "\n",
    "my_string = \"\"\"\n",
    "One morning, when Gregor Samsa woke from troubled dreams, he found himself transformed in his bed into a horrible vermin. He l\n",
    "\"\"\"\n",
    "print(my_string)\n",
    "print(f\"length: {len(my_string)} characters\")\n",
    "print(f\"size: {sys.getsizeof(my_string)} bytes\")"
   ]
  },
  {
   "cell_type": "markdown",
   "metadata": {},
   "source": [
    "Encoding the string with ASCII reduces the size marginally"
   ]
  },
  {
   "cell_type": "code",
   "execution_count": 4,
   "metadata": {},
   "outputs": [
    {
     "data": {
      "text/plain": [
       "161"
      ]
     },
     "execution_count": 4,
     "metadata": {},
     "output_type": "execute_result"
    }
   ],
   "source": [
    "string_ascii = my_string.encode('ascii')\n",
    "sys.getsizeof(string_ascii)"
   ]
  },
  {
   "cell_type": "markdown",
   "metadata": {},
   "source": [
    "https://stackoverflow.com/questions/4850241/how-many-bits-or-bytes-are-there-in-a-character#comment5386827_4850241"
   ]
  },
  {
   "cell_type": "markdown",
   "metadata": {},
   "source": [
    "#### 2) 1024x768 PNG image\n",
    "\n",
    "The size of a PNG depends on what the image contains. There is no way to predict the filesize based solely on the dimensions of the image."
   ]
  },
  {
   "cell_type": "code",
   "execution_count": 41,
   "metadata": {},
   "outputs": [],
   "source": [
    "import cv2\n",
    "import os\n",
    "import matplotlib.pyplot as plt"
   ]
  },
  {
   "cell_type": "code",
   "execution_count": 53,
   "metadata": {},
   "outputs": [
    {
     "name": "stdout",
     "output_type": "stream",
     "text": [
      "file size: 240 bytes\n",
      "image dims: (768, 1024, 3)\n",
      "size in Python: 2.25 Megabytes\n"
     ]
    },
    {
     "data": {
      "text/plain": [
       "<matplotlib.image.AxesImage at 0x267e79f3460>"
      ]
     },
     "execution_count": 53,
     "metadata": {},
     "output_type": "execute_result"
    },
    {
     "data": {
      "image/png": "[encoded data removed]",
      "text/plain": [
       "<Figure size 432x288 with 1 Axes>"
      ]
     },
     "metadata": {
      "needs_background": "light"
     },
     "output_type": "display_data"
    }
   ],
   "source": [
    "print(f\"file size: {os.stat('black_image.png').st_size} bytes\")\n",
    "image = cv2.imread('black_image.png')\n",
    "print(f\"image dims: {image.shape}\")\n",
    "print(f\"size in Python: {sys.getsizeof(image)/1024/1024:.2f} Megabytes\")\n",
    "plt.imshow(image)"
   ]
  },
  {
   "cell_type": "markdown",
   "metadata": {},
   "source": [
    "#### 3) 1024x768 RAW Image\n",
    "\n",
    "A raw image RGB data for each pixel in the image.\n",
    "\n",
    "1024 pixels x 768 pixels x (3 colors + 1 alpha) = 3MB"
   ]
  },
  {
   "cell_type": "code",
   "execution_count": 13,
   "metadata": {},
   "outputs": [
    {
     "data": {
      "text/plain": [
       "3.0"
      ]
     },
     "execution_count": 13,
     "metadata": {},
     "output_type": "execute_result"
    }
   ],
   "source": [
    "1024*768*4 / 1024 / 1024"
   ]
  },
  {
   "cell_type": "markdown",
   "metadata": {},
   "source": [
    "https://toolstud.io/photo/filesize.php?imagewidth=1024&imageheight=768"
   ]
  },
  {
   "cell_type": "markdown",
   "metadata": {},
   "source": [
    "https://www.circlehd.com/blog/how-to-calculate-video-file-size"
   ]
  },
  {
   "cell_type": "markdown",
   "metadata": {},
   "source": [
    "#### Daily Twitter Tweets (Uncompressed)  "
   ]
  },
  {
   "cell_type": "code",
   "execution_count": 36,
   "metadata": {},
   "outputs": [
    {
     "data": {
      "text/plain": [
       "93.13225746154785"
      ]
     },
     "execution_count": 36,
     "metadata": {},
     "output_type": "execute_result"
    }
   ],
   "source": [
    "# 500 Million Tweets at 200 bytes per tweet\n",
    "# bytes x messagse  /  kilo / mega / giga \n",
    "(200 * 500 * 1000000) /1024 / 1024 / 1024 "
   ]
  },
  {
   "cell_type": "markdown",
   "metadata": {},
   "source": [
    "#### Daily Tweets with Scapyy Compression"
   ]
  },
  {
   "cell_type": "code",
   "execution_count": 39,
   "metadata": {},
   "outputs": [
    {
     "data": {
      "text/plain": [
       "58.125"
      ]
     },
     "execution_count": 39,
     "metadata": {},
     "output_type": "execute_result"
    }
   ],
   "source": [
    "93 / 1.6"
   ]
  },
  {
   "cell_type": "markdown",
   "metadata": {},
   "source": [
    "#### Instagram Photos"
   ]
  },
  {
   "cell_type": "markdown",
   "metadata": {},
   "source": [
    "995 photos are uploaded on Instagram every second."
   ]
  },
  {
   "cell_type": "code",
   "execution_count": 6,
   "metadata": {},
   "outputs": [
    {
     "data": {
      "text/plain": [
       "85968000"
      ]
     },
     "execution_count": 6,
     "metadata": {},
     "output_type": "execute_result"
    }
   ],
   "source": [
    "995 * 60 * 60 * 24"
   ]
  }
 ],
 "metadata": {
  "kernelspec": {
   "display_name": "Python 3",
   "language": "python",
   "name": "python3"
  },
  "language_info": {
   "codemirror_mode": {
    "name": "ipython",
    "version": 3
   },
   "file_extension": ".py",
   "mimetype": "text/x-python",
   "name": "python",
   "nbconvert_exporter": "python",
   "pygments_lexer": "ipython3",
   "version": "3.8.10"
  }
 },
 "nbformat": 4,
 "nbformat_minor": 4
}
