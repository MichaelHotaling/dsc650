{
 "cells": [
  {
   "cell_type": "markdown",
   "metadata": {},
   "source": [
    "# Assignment 10\n",
    "## Assignment 10.1\n",
    "In the first part of the assignment, you will implement basic text-preprocessing functions in Python. These functions do not need to scale to large text documents and will only need to handle small inputs."
   ]
  },
  {
   "cell_type": "markdown",
   "metadata": {},
   "source": [
    "### Assignment 10.1.a\n",
    "Create a tokenize function that splits a sentence into words. Ensure that your tokenizer removes basic punctuation.\n"
   ]
  },
  {
   "cell_type": "code",
   "execution_count": 1,
   "metadata": {},
   "outputs": [],
   "source": [
    "import re\n",
    "from string import punctuation\n",
    "import pandas as pd\n",
    "import numpy as np\n",
    "import seaborn as sns\n",
    "from seaborn import heatmap\n",
    "import matplotlib.pyplot as plt\n",
    "\n",
    "import keras\n",
    "from keras import models, layers, losses, optimizers\n",
    "import sklearn.metrics as metrics\n"
   ]
  },
  {
   "cell_type": "code",
   "execution_count": 2,
   "metadata": {},
   "outputs": [],
   "source": [
    "def tokenize(sentence, \n",
    "             filters = punctuation + \"\\n\", \n",
    "             lower = True, \n",
    "             split = \" \"):\n",
    "    \n",
    "    # Convert string to lower case\n",
    "    if lower:\n",
    "        sentence = sentence.lower()\n",
    "        \n",
    "    # Remove all punctuation\n",
    "    for i in list(filters):\n",
    "        sentence = sentence.replace(i,\"\")\n",
    "    \n",
    "    # Remove duplicate spaces\n",
    "    sentence = re.sub(' +', ' ',sentence)\n",
    "    \n",
    "    # Split by spaces\n",
    "    tokens = sentence.split(split)\n",
    "    return tokens"
   ]
  },
  {
   "cell_type": "code",
   "execution_count": 3,
   "metadata": {},
   "outputs": [],
   "source": [
    "s = \"\"\"\n",
    "In my younger and more vulnerable years, my father \n",
    "gave me some advice that I've been turning over in my mind ever \n",
    "since.                                                        \n",
    "                                                               \n",
    "\"Whenever you feel like criticizing anyone,\" he told me, \"just \n",
    "remember that all the people in this world haven't had the ad-\n",
    "vantages that you've had.\"\n",
    "\"\"\""
   ]
  },
  {
   "cell_type": "code",
   "execution_count": 4,
   "metadata": {},
   "outputs": [
    {
     "name": "stdout",
     "output_type": "stream",
     "text": [
      "['in', 'my', 'younger', 'and', 'more', 'vulnerable', 'years', 'my', 'father', 'gave', 'me', 'some', 'advice', 'that', 'ive', 'been', 'turning', 'over', 'in', 'my', 'mind', 'ever', 'since', 'whenever', 'you', 'feel', 'like', 'criticizing', 'anyone', 'he', 'told', 'me', 'just', 'remember', 'that', 'all', 'the', 'people', 'in', 'this', 'world', 'havent', 'had', 'the', 'advantages', 'that', 'youve', 'had']\n"
     ]
    }
   ],
   "source": [
    "tokens = tokenize(s)\n",
    "print(tokens)"
   ]
  },
  {
   "cell_type": "markdown",
   "metadata": {},
   "source": [
    "\n",
    "### Assignment 10.1.b\n",
    "\n",
    "Implement an `ngram` function that splits tokens into N-grams. \n"
   ]
  },
  {
   "cell_type": "code",
   "execution_count": 5,
   "metadata": {},
   "outputs": [],
   "source": [
    "def ngram(tokens, n):\n",
    "    ngrams = [' '.join(words for words in tokens[i:i+n]) for i in range(0,len(tokens) - n + 1)]\n",
    "    return ngrams"
   ]
  },
  {
   "cell_type": "code",
   "execution_count": 6,
   "metadata": {},
   "outputs": [
    {
     "name": "stdout",
     "output_type": "stream",
     "text": [
      "['in my', 'my younger', 'younger and', 'and more', 'more vulnerable', 'vulnerable years', 'years my', 'my father', 'father gave', 'gave me', 'me some', 'some advice', 'advice that', 'that ive', 'ive been', 'been turning', 'turning over', 'over in', 'in my', 'my mind', 'mind ever', 'ever since', 'since whenever', 'whenever you', 'you feel', 'feel like', 'like criticizing', 'criticizing anyone', 'anyone he', 'he told', 'told me', 'me just', 'just remember', 'remember that', 'that all', 'all the', 'the people', 'people in', 'in this', 'this world', 'world havent', 'havent had', 'had the', 'the advantages', 'advantages that', 'that youve', 'youve had']\n"
     ]
    }
   ],
   "source": [
    "print(ngram(tokens,2))"
   ]
  },
  {
   "cell_type": "markdown",
   "metadata": {},
   "source": [
    "### Assignment 10.1.c\n",
    "Implement an one_hot_encode function to create a vector from a numerical vector from a list of tokens.\n"
   ]
  },
  {
   "cell_type": "code",
   "execution_count": 7,
   "metadata": {},
   "outputs": [],
   "source": [
    "def one_hot_encode(tokens):\n",
    "    token_index = {}\n",
    "    for token in tokens:\n",
    "        if token in token_index:\n",
    "            token_index[token] += 1\n",
    "        else:\n",
    "            token_index[token] = 1\n",
    "            \n",
    "    return([token_index.values()], token_index.keys())"
   ]
  },
  {
   "cell_type": "code",
   "execution_count": 8,
   "metadata": {},
   "outputs": [
    {
     "data": {
      "text/html": [
       "<div>\n",
       "<style scoped>\n",
       "    .dataframe tbody tr th:only-of-type {\n",
       "        vertical-align: middle;\n",
       "    }\n",
       "\n",
       "    .dataframe tbody tr th {\n",
       "        vertical-align: top;\n",
       "    }\n",
       "\n",
       "    .dataframe thead th {\n",
       "        text-align: right;\n",
       "    }\n",
       "</style>\n",
       "<table border=\"1\" class=\"dataframe\">\n",
       "  <thead>\n",
       "    <tr style=\"text-align: right;\">\n",
       "      <th></th>\n",
       "      <th>in</th>\n",
       "      <th>my</th>\n",
       "      <th>younger</th>\n",
       "      <th>and</th>\n",
       "      <th>more</th>\n",
       "      <th>vulnerable</th>\n",
       "      <th>years</th>\n",
       "      <th>father</th>\n",
       "      <th>gave</th>\n",
       "      <th>me</th>\n",
       "      <th>...</th>\n",
       "      <th>remember</th>\n",
       "      <th>all</th>\n",
       "      <th>the</th>\n",
       "      <th>people</th>\n",
       "      <th>this</th>\n",
       "      <th>world</th>\n",
       "      <th>havent</th>\n",
       "      <th>had</th>\n",
       "      <th>advantages</th>\n",
       "      <th>youve</th>\n",
       "    </tr>\n",
       "  </thead>\n",
       "  <tbody>\n",
       "    <tr>\n",
       "      <th>0</th>\n",
       "      <td>3</td>\n",
       "      <td>3</td>\n",
       "      <td>1</td>\n",
       "      <td>1</td>\n",
       "      <td>1</td>\n",
       "      <td>1</td>\n",
       "      <td>1</td>\n",
       "      <td>1</td>\n",
       "      <td>1</td>\n",
       "      <td>2</td>\n",
       "      <td>...</td>\n",
       "      <td>1</td>\n",
       "      <td>1</td>\n",
       "      <td>2</td>\n",
       "      <td>1</td>\n",
       "      <td>1</td>\n",
       "      <td>1</td>\n",
       "      <td>1</td>\n",
       "      <td>2</td>\n",
       "      <td>1</td>\n",
       "      <td>1</td>\n",
       "    </tr>\n",
       "  </tbody>\n",
       "</table>\n",
       "<p>1 rows × 39 columns</p>\n",
       "</div>"
      ],
      "text/plain": [
       "   in  my  younger  and  more  vulnerable  years  father  gave  me  ...  \\\n",
       "0   3   3        1    1     1           1      1       1     1   2  ...   \n",
       "\n",
       "   remember  all  the  people  this  world  havent  had  advantages  youve  \n",
       "0         1    1    2       1     1      1       1    2           1      1  \n",
       "\n",
       "[1 rows x 39 columns]"
      ]
     },
     "execution_count": 8,
     "metadata": {},
     "output_type": "execute_result"
    }
   ],
   "source": [
    "vals, cols = one_hot_encode(tokens)\n",
    "df = pd.DataFrame(vals, columns=cols)\n",
    "\n",
    "df"
   ]
  },
  {
   "cell_type": "markdown",
   "metadata": {},
   "source": [
    "## Assignment 10.2\n",
    "Using listings 6.16, 6.17, and 6.18 in Deep Learning with Python as a guide, train a sequential model with embeddings on the IMDB data found in data/external/imdb/. Produce the model performance metrics and training and validation accuracy curves within the Jupyter notebook."
   ]
  },
  {
   "cell_type": "code",
   "execution_count": 9,
   "metadata": {},
   "outputs": [],
   "source": [
    "import keras\n",
    "from IMDB import IMDB_Dataset\n",
    "from keras.preprocessing.text import Tokenizer"
   ]
  },
  {
   "cell_type": "markdown",
   "metadata": {},
   "source": [
    "### Loading the Data"
   ]
  },
  {
   "cell_type": "code",
   "execution_count": 10,
   "metadata": {},
   "outputs": [
    {
     "name": "stdout",
     "output_type": "stream",
     "text": [
      "pos_train : [####################################################################################################]\n",
      "neg_train : [####################################################################################################]\n",
      "pos_test  : [####################################################################################################]\n",
      "neg_test  : [####################################################################################################]\n"
     ]
    }
   ],
   "source": [
    "# Created an external class to load the data and made a quick GUI to verify it doesn't get hung up. \n",
    "(X_train, y_train), (X_test, y_test) = IMDB_Dataset().load_data()"
   ]
  },
  {
   "cell_type": "markdown",
   "metadata": {},
   "source": [
    "### Data Cleaning"
   ]
  },
  {
   "cell_type": "code",
   "execution_count": 11,
   "metadata": {},
   "outputs": [
    {
     "data": {
      "text/plain": [
       "'Bromwell High is a cartoon comedy. It ran at the same time as some other programs about school life, such as \"Teachers\". My 35 years in the teaching profession lead me to believe that Bromwell High\\'s satire is much closer to reality than is \"Teachers\". The scramble to survive financially, the insightful students who can see right through their pathetic teachers\\' pomp, the pettiness of the whole situation, all remind me of the schools I knew and their students. When I saw the episode in which a student repeatedly tried to burn down the school, I immediately recalled ......... at .......... High. A classic line: INSPECTOR: I\\'m here to sack one of your teachers. STUDENT: Welcome to Bromwell High. I expect that many adults of my age think that Bromwell High is far fetched. What a pity that it isn\\'t!'"
      ]
     },
     "execution_count": 11,
     "metadata": {},
     "output_type": "execute_result"
    }
   ],
   "source": [
    "X_train[0]"
   ]
  },
  {
   "cell_type": "code",
   "execution_count": 12,
   "metadata": {},
   "outputs": [
    {
     "data": {
      "text/plain": [
       "\"I went and saw this movie last night after being coaxed to by a few friends of mine. I'll admit that I was reluctant to see it because from what I knew of Ashton Kutcher he was only able to do comedy. I was wrong. Kutcher played the character of Jake Fischer very well, and Kevin Costner played Ben Randall with such professionalism. The sign of a good movie is that it can toy with our emotions. This one did exactly that. The entire theater (which was sold out) was overcome by laughter during the first half of the movie, and were moved to tears during the second half. While exiting the theater I not only saw many women in tears, but many full grown men as well, trying desperately not to let anyone see them crying. This movie was great, and I suggest that you go see it before you judge.\""
      ]
     },
     "execution_count": 12,
     "metadata": {},
     "output_type": "execute_result"
    }
   ],
   "source": [
    "X_test[0]"
   ]
  },
  {
   "cell_type": "code",
   "execution_count": 13,
   "metadata": {},
   "outputs": [],
   "source": [
    "def data_cleaner(review):\n",
    "    # Convert string to lower case\n",
    "    review = review.lower()\n",
    "        \n",
    "    # Remove all punctuation\n",
    "    for i in list(punctuation + \"\\n\"):\n",
    "        review = review.replace(i,\"\")\n",
    "    \n",
    "    # Remove duplicate spaces\n",
    "    review = re.sub(' +', ' ', review)\n",
    "    \n",
    "    return review"
   ]
  },
  {
   "cell_type": "code",
   "execution_count": 14,
   "metadata": {},
   "outputs": [],
   "source": [
    "X_train = [data_cleaner(review) for review in X_train]\n",
    "X_test = [data_cleaner(review) for review in X_test]"
   ]
  },
  {
   "cell_type": "code",
   "execution_count": 15,
   "metadata": {},
   "outputs": [
    {
     "name": "stdout",
     "output_type": "stream",
     "text": [
      "['bromwell', 'high', 'is', 'a', 'cartoon', 'comedy', 'it', 'ran', 'at', 'the', 'same', 'time', 'as', 'some', 'other', 'programs', 'about', 'school', 'life', 'such', 'as', 'teachers', 'my', '35', 'years', 'in', 'the', 'teaching', 'profession', 'lead', 'me', 'to', 'believe', 'that', 'bromwell', 'highs', 'satire', 'is', 'much', 'closer', 'to', 'reality', 'than', 'is', 'teachers', 'the', 'scramble', 'to', 'survive', 'financially', 'the', 'insightful', 'students', 'who', 'can', 'see', 'right', 'through', 'their', 'pathetic', 'teachers', 'pomp', 'the', 'pettiness', 'of', 'the', 'whole', 'situation', 'all', 'remind', 'me', 'of', 'the', 'schools', 'i', 'knew', 'and', 'their', 'students', 'when', 'i', 'saw', 'the', 'episode', 'in', 'which', 'a', 'student', 'repeatedly', 'tried', 'to', 'burn', 'down', 'the', 'school', 'i', 'immediately', 'recalled', 'at', 'high', 'a', 'classic', 'line', 'inspector', 'im', 'here', 'to', 'sack', 'one', 'of', 'your', 'teachers', 'student', 'welcome', 'to', 'bromwell', 'high', 'i', 'expect', 'that', 'many', 'adults', 'of', 'my', 'age', 'think', 'that', 'bromwell', 'high', 'is', 'far', 'fetched', 'what', 'a', 'pity', 'that', 'it', 'isnt']\n"
     ]
    }
   ],
   "source": [
    "print(X_train[0].split(\" \"))"
   ]
  },
  {
   "cell_type": "code",
   "execution_count": 16,
   "metadata": {},
   "outputs": [
    {
     "name": "stdout",
     "output_type": "stream",
     "text": [
      "['i', 'went', 'and', 'saw', 'this', 'movie', 'last', 'night', 'after', 'being', 'coaxed', 'to', 'by', 'a', 'few', 'friends', 'of', 'mine', 'ill', 'admit', 'that', 'i', 'was', 'reluctant', 'to', 'see', 'it', 'because', 'from', 'what', 'i', 'knew', 'of', 'ashton', 'kutcher', 'he', 'was', 'only', 'able', 'to', 'do', 'comedy', 'i', 'was', 'wrong', 'kutcher', 'played', 'the', 'character', 'of', 'jake', 'fischer', 'very', 'well', 'and', 'kevin', 'costner', 'played', 'ben', 'randall', 'with', 'such', 'professionalism', 'the', 'sign', 'of', 'a', 'good', 'movie', 'is', 'that', 'it', 'can', 'toy', 'with', 'our', 'emotions', 'this', 'one', 'did', 'exactly', 'that', 'the', 'entire', 'theater', 'which', 'was', 'sold', 'out', 'was', 'overcome', 'by', 'laughter', 'during', 'the', 'first', 'half', 'of', 'the', 'movie', 'and', 'were', 'moved', 'to', 'tears', 'during', 'the', 'second', 'half', 'while', 'exiting', 'the', 'theater', 'i', 'not', 'only', 'saw', 'many', 'women', 'in', 'tears', 'but', 'many', 'full', 'grown', 'men', 'as', 'well', 'trying', 'desperately', 'not', 'to', 'let', 'anyone', 'see', 'them', 'crying', 'this', 'movie', 'was', 'great', 'and', 'i', 'suggest', 'that', 'you', 'go', 'see', 'it', 'before', 'you', 'judge']\n"
     ]
    }
   ],
   "source": [
    "print(X_test[0].split(\" \"))"
   ]
  },
  {
   "cell_type": "markdown",
   "metadata": {},
   "source": [
    "### Basic EDA"
   ]
  },
  {
   "cell_type": "code",
   "execution_count": 17,
   "metadata": {},
   "outputs": [],
   "source": [
    "review_lengths = [len(review.split(\" \")) for review in X_train]"
   ]
  },
  {
   "cell_type": "code",
   "execution_count": 18,
   "metadata": {},
   "outputs": [
    {
     "data": {
      "image/png": "[encoded data removed]",
      "text/plain": [
       "<Figure size 432x288 with 1 Axes>"
      ]
     },
     "metadata": {
      "needs_background": "light"
     },
     "output_type": "display_data"
    }
   ],
   "source": [
    "sns.histplot(review_lengths, bins = 100);\n",
    "plt.xlim(0,1000)\n",
    "plt.title(\"Histogram of Length of Reviews\")\n",
    "plt.show()"
   ]
  },
  {
   "cell_type": "code",
   "execution_count": 19,
   "metadata": {},
   "outputs": [
    {
     "data": {
      "text/plain": [
       "2470"
      ]
     },
     "execution_count": 19,
     "metadata": {},
     "output_type": "execute_result"
    }
   ],
   "source": [
    "max(review_lengths)"
   ]
  },
  {
   "cell_type": "code",
   "execution_count": 20,
   "metadata": {},
   "outputs": [
    {
     "data": {
      "text/plain": [
       "10"
      ]
     },
     "execution_count": 20,
     "metadata": {},
     "output_type": "execute_result"
    }
   ],
   "source": [
    "min(review_lengths)"
   ]
  },
  {
   "cell_type": "markdown",
   "metadata": {},
   "source": [
    "### Sequential Model"
   ]
  },
  {
   "cell_type": "code",
   "execution_count": 21,
   "metadata": {},
   "outputs": [],
   "source": [
    "MAX_WORDS = 10000\n",
    "EMBEDDING_DIM = 100"
   ]
  },
  {
   "cell_type": "code",
   "execution_count": 22,
   "metadata": {},
   "outputs": [],
   "source": [
    "# Use the keras tokenizer to select the mo\n",
    "tokenizer = keras.preprocessing.text.Tokenizer(num_words = MAX_WORDS)\n",
    "tokenizer.fit_on_texts(X_train)\n",
    "\n",
    "sequences = tokenizer.texts_to_sequences(X_train)\n",
    "X_test = tokenizer.texts_to_sequences(X_test)\n",
    "\n",
    "MAX_LEN = max([len(x) for x in sequences])\n",
    "\n",
    "data = keras.preprocessing.sequence.pad_sequences(sequences, maxlen=MAX_LEN)\n",
    "X_test = keras.preprocessing.sequence.pad_sequences(X_test, maxlen=MAX_LEN)\n",
    "\n",
    "labels = np.asarray(y_train)\n",
    "y_test = np.asarray(y_test)"
   ]
  },
  {
   "cell_type": "code",
   "execution_count": 23,
   "metadata": {},
   "outputs": [
    {
     "data": {
      "text/plain": [
       "(25000, 2152)"
      ]
     },
     "execution_count": 23,
     "metadata": {},
     "output_type": "execute_result"
    }
   ],
   "source": [
    "X_test.shape"
   ]
  },
  {
   "cell_type": "code",
   "execution_count": 24,
   "metadata": {},
   "outputs": [
    {
     "data": {
      "text/plain": [
       "(25000, 2152)"
      ]
     },
     "execution_count": 24,
     "metadata": {},
     "output_type": "execute_result"
    }
   ],
   "source": [
    "data.shape"
   ]
  },
  {
   "cell_type": "code",
   "execution_count": 25,
   "metadata": {},
   "outputs": [],
   "source": [
    "# Shuffle the data so we don't only get one class in the validation set\n",
    "indices = np.arange(data.shape[0])\n",
    "np.random.shuffle(indices)\n",
    "\n",
    "data = data[indices]\n",
    "labels = labels[indices]"
   ]
  },
  {
   "cell_type": "code",
   "execution_count": 26,
   "metadata": {},
   "outputs": [],
   "source": [
    "# Split the data into training and validation sets\n",
    "X_train = data[500:]\n",
    "y_train = labels[500:]\n",
    "\n",
    "X_val = data[:500]\n",
    "y_val = labels[:500]"
   ]
  },
  {
   "cell_type": "code",
   "execution_count": 27,
   "metadata": {},
   "outputs": [],
   "source": [
    "MAX_WORDS = 10000\n",
    "EMBEDDING_DIM = 100"
   ]
  },
  {
   "cell_type": "code",
   "execution_count": 28,
   "metadata": {},
   "outputs": [
    {
     "name": "stdout",
     "output_type": "stream",
     "text": [
      "Model: \"sequential\"\n",
      "_________________________________________________________________\n",
      "Layer (type)                 Output Shape              Param #   \n",
      "=================================================================\n",
      "embedding (Embedding)        (None, 2152, 100)         1000000   \n",
      "_________________________________________________________________\n",
      "flatten (Flatten)            (None, 215200)            0         \n",
      "_________________________________________________________________\n",
      "dense (Dense)                (None, 32)                6886432   \n",
      "_________________________________________________________________\n",
      "dense_1 (Dense)              (None, 1)                 33        \n",
      "=================================================================\n",
      "Total params: 7,886,465\n",
      "Trainable params: 7,886,465\n",
      "Non-trainable params: 0\n",
      "_________________________________________________________________\n",
      "Epoch 1/10\n",
      "766/766 [==============================] - 92s 101ms/step - loss: 0.7207 - acc: 0.6848 - val_loss: 0.2526 - val_acc: 0.9000\n",
      "Epoch 2/10\n",
      "766/766 [==============================] - 80s 104ms/step - loss: 0.1679 - acc: 0.9376 - val_loss: 0.2523 - val_acc: 0.9000\n",
      "Epoch 3/10\n",
      "766/766 [==============================] - 79s 104ms/step - loss: 0.0440 - acc: 0.9869 - val_loss: 0.3857 - val_acc: 0.8960\n",
      "Epoch 4/10\n",
      "766/766 [==============================] - 81s 105ms/step - loss: 0.0087 - acc: 0.9968 - val_loss: 0.5735 - val_acc: 0.8780\n",
      "Epoch 5/10\n",
      "766/766 [==============================] - 80s 104ms/step - loss: 0.0046 - acc: 0.9986 - val_loss: 0.5785 - val_acc: 0.9060\n",
      "Epoch 6/10\n",
      "766/766 [==============================] - 79s 104ms/step - loss: 6.5685e-04 - acc: 0.9997 - val_loss: 0.6687 - val_acc: 0.9120\n",
      "Epoch 7/10\n",
      "766/766 [==============================] - 79s 104ms/step - loss: 7.7691e-04 - acc: 0.9997 - val_loss: 0.8591 - val_acc: 0.9020\n",
      "Epoch 8/10\n",
      "766/766 [==============================] - 79s 104ms/step - loss: 1.9474e-05 - acc: 1.0000 - val_loss: 0.9582 - val_acc: 0.8960\n",
      "Epoch 9/10\n",
      "766/766 [==============================] - 79s 104ms/step - loss: 2.3952e-05 - acc: 1.0000 - val_loss: 1.0314 - val_acc: 0.8980\n",
      "Epoch 10/10\n",
      "766/766 [==============================] - 79s 104ms/step - loss: 2.8099e-08 - acc: 1.0000 - val_loss: 1.0640 - val_acc: 0.9080\n"
     ]
    }
   ],
   "source": [
    "from keras.models import Sequential\n",
    "from keras.layers import Embedding, Flatten, Dense\n",
    "\n",
    "model = Sequential()\n",
    "model.add(Embedding(MAX_WORDS, \n",
    "                    EMBEDDING_DIM, \n",
    "                    input_length=X_train.shape[1]))\n",
    "model.add(Flatten())\n",
    "model.add(Dense(32, activation='relu'))\n",
    "model.add(Dense(1, activation='sigmoid'))\n",
    "model.summary()\n",
    "\n",
    "model.compile(optimizer='rmsprop',\n",
    "              loss='binary_crossentropy',\n",
    "              metrics=['acc'])\n",
    "\n",
    "history = model.fit(X_train, y_train,\n",
    "                    epochs=10,\n",
    "                    batch_size=32,\n",
    "                    validation_data=(X_val, y_val))"
   ]
  },
  {
   "cell_type": "markdown",
   "metadata": {},
   "source": [
    "### Model Evaluation"
   ]
  },
  {
   "cell_type": "code",
   "execution_count": 29,
   "metadata": {},
   "outputs": [
    {
     "name": "stdout",
     "output_type": "stream",
     "text": [
      "782/782 [==============================] - 13s 16ms/step - loss: 1.3244 - acc: 0.8702\n"
     ]
    },
    {
     "data": {
      "text/plain": [
       "[1.3243714570999146, 0.8701599836349487]"
      ]
     },
     "execution_count": 29,
     "metadata": {},
     "output_type": "execute_result"
    }
   ],
   "source": [
    "model.evaluate(X_test,y_test)"
   ]
  },
  {
   "cell_type": "code",
   "execution_count": 30,
   "metadata": {},
   "outputs": [
    {
     "data": {
      "image/png": "[encoded data removed]",
      "text/plain": [
       "<Figure size 1152x288 with 4 Axes>"
      ]
     },
     "metadata": {
      "needs_background": "light"
     },
     "output_type": "display_data"
    }
   ],
   "source": [
    "history_dict = history.history\n",
    "\n",
    "acc = history_dict['acc']\n",
    "val_acc = history_dict['val_acc']\n",
    "loss_values = history_dict['loss']\n",
    "val_loss_values = history_dict['val_loss']\n",
    "epochs = range(1,len(acc) + 1)\n",
    "\n",
    "# Plotting metrics\n",
    "fig, [ax1, ax2, ax3] = plt.subplots(1,3, figsize=(16,4))\n",
    "\n",
    "ax1.plot(epochs, loss_values,  'bo', label = 'Training Loss')\n",
    "ax1.plot(epochs, val_loss_values, 'b', label = 'Validation loss')\n",
    "ax1.set_title('Training and Validation Loss')\n",
    "ax1.set_xlabel(\"Epochs\")\n",
    "ax1.set_ylabel(\"Loss\")\n",
    "ax1.legend()\n",
    "\n",
    "ax2.plot(epochs, acc,  'bo', label = 'Training accuracy')\n",
    "ax2.plot(epochs, val_acc, 'b', label = 'Validation accuracy')\n",
    "ax2.set_title('Training and Validation Accuracy')\n",
    "ax2.set_xlabel(\"Epochs\")\n",
    "ax2.set_ylabel(\"Accuracy\")\n",
    "ax2.legend()\n",
    "\n",
    "confusion_matrix = metrics.confusion_matrix(y_true=y_test, y_pred=np.round(model.predict(X_test)))\n",
    "heatmap(confusion_matrix, annot = True, cmap='Blues', fmt='g', ax = ax3);"
   ]
  },
  {
   "cell_type": "markdown",
   "metadata": {},
   "source": [
    "## Assignment 10.3\n",
    "Using listing 6.27 in Deep Learning with Python as a guide, fit the same data with an LSTM layer. Produce the model performance metrics and training and validation accuracy curves within the Jupyter notebook."
   ]
  },
  {
   "cell_type": "code",
   "execution_count": 31,
   "metadata": {
    "scrolled": false
   },
   "outputs": [
    {
     "name": "stdout",
     "output_type": "stream",
     "text": [
      "Model: \"sequential_1\"\n",
      "_________________________________________________________________\n",
      "Layer (type)                 Output Shape              Param #   \n",
      "=================================================================\n",
      "embedding_1 (Embedding)      (None, 2152, 100)         1000000   \n",
      "_________________________________________________________________\n",
      "lstm (LSTM)                  (None, 32)                17024     \n",
      "_________________________________________________________________\n",
      "dense_2 (Dense)              (None, 1)                 33        \n",
      "=================================================================\n",
      "Total params: 1,017,057\n",
      "Trainable params: 1,017,057\n",
      "Non-trainable params: 0\n",
      "_________________________________________________________________\n",
      "Epoch 1/10\n",
      "192/192 [==============================] - 418s 2s/step - loss: 0.5646 - acc: 0.7098 - val_loss: 0.3911 - val_acc: 0.8360\n",
      "Epoch 2/10\n",
      "192/192 [==============================] - 408s 2s/step - loss: 0.2805 - acc: 0.8940 - val_loss: 0.2647 - val_acc: 0.9080\n",
      "Epoch 3/10\n",
      "192/192 [==============================] - 408s 2s/step - loss: 0.2196 - acc: 0.9187 - val_loss: 0.2628 - val_acc: 0.8920\n",
      "Epoch 4/10\n",
      "192/192 [==============================] - 407s 2s/step - loss: 0.1830 - acc: 0.9343 - val_loss: 0.2524 - val_acc: 0.9040\n",
      "Epoch 5/10\n",
      "192/192 [==============================] - 409s 2s/step - loss: 0.1633 - acc: 0.9422 - val_loss: 0.2944 - val_acc: 0.8880\n",
      "Epoch 6/10\n",
      "192/192 [==============================] - 408s 2s/step - loss: 0.1400 - acc: 0.9526 - val_loss: 0.2731 - val_acc: 0.8980\n",
      "Epoch 7/10\n",
      "192/192 [==============================] - 407s 2s/step - loss: 0.1194 - acc: 0.9590 - val_loss: 0.3046 - val_acc: 0.8920\n",
      "Epoch 8/10\n",
      "192/192 [==============================] - 408s 2s/step - loss: 0.1142 - acc: 0.9608 - val_loss: 0.3285 - val_acc: 0.8860\n",
      "Epoch 9/10\n",
      "192/192 [==============================] - 409s 2s/step - loss: 0.1060 - acc: 0.9660 - val_loss: 0.4101 - val_acc: 0.8800\n",
      "Epoch 10/10\n",
      "192/192 [==============================] - 409s 2s/step - loss: 0.0943 - acc: 0.9686 - val_loss: 0.3501 - val_acc: 0.8940\n"
     ]
    }
   ],
   "source": [
    "from keras.layers import LSTM\n",
    "\n",
    "model = Sequential()\n",
    "model.add(Embedding(MAX_WORDS, \n",
    "                    EMBEDDING_DIM, \n",
    "                    input_length=X_train.shape[1]))\n",
    "model.add(LSTM(32))\n",
    "model.add(Dense(1, activation='sigmoid'))\n",
    "\n",
    "model.compile(optimizer='rmsprop',\n",
    "              loss='binary_crossentropy',\n",
    "              metrics=['acc'])\n",
    "\n",
    "model.summary()\n",
    "\n",
    "history = model.fit(X_train, y_train,\n",
    "                    epochs=10,\n",
    "                    batch_size=128,\n",
    "                    validation_data=(X_val, y_val))"
   ]
  },
  {
   "cell_type": "code",
   "execution_count": 32,
   "metadata": {},
   "outputs": [
    {
     "name": "stdout",
     "output_type": "stream",
     "text": [
      "782/782 [==============================] - 133s 170ms/step - loss: 0.3965 - acc: 0.8675\n"
     ]
    },
    {
     "data": {
      "text/plain": [
       "[0.39654096961021423, 0.8675199747085571]"
      ]
     },
     "execution_count": 32,
     "metadata": {},
     "output_type": "execute_result"
    }
   ],
   "source": [
    "model.evaluate(X_test,y_test)"
   ]
  },
  {
   "cell_type": "code",
   "execution_count": 33,
   "metadata": {},
   "outputs": [
    {
     "data": {
      "image/png": "[encoded data removed]",
      "text/plain": [
       "<Figure size 1152x288 with 4 Axes>"
      ]
     },
     "metadata": {
      "needs_background": "light"
     },
     "output_type": "display_data"
    }
   ],
   "source": [
    "history_dict = history.history\n",
    "\n",
    "acc = history_dict['acc']\n",
    "val_acc = history_dict['val_acc']\n",
    "loss_values = history_dict['loss']\n",
    "val_loss_values = history_dict['val_loss']\n",
    "epochs = range(1,len(acc) + 1)\n",
    "\n",
    "# Plotting metrics\n",
    "fig, [ax1, ax2, ax3] = plt.subplots(1,3, figsize=(16,4))\n",
    "\n",
    "ax1.plot(epochs, loss_values,  'bo', label = 'Training Loss')\n",
    "ax1.plot(epochs, val_loss_values, 'b', label = 'Validation loss')\n",
    "ax1.set_title('Training and Validation Loss')\n",
    "ax1.set_xlabel(\"Epochs\")\n",
    "ax1.set_ylabel(\"Loss\")\n",
    "ax1.legend()\n",
    "\n",
    "ax2.plot(epochs, acc,  'bo', label = 'Training accuracy')\n",
    "ax2.plot(epochs, val_acc, 'b', label = 'Validation accuracy')\n",
    "ax2.set_title('Training and Validation Accuracy')\n",
    "ax2.set_xlabel(\"Epochs\")\n",
    "ax2.set_ylabel(\"Accuracy\")\n",
    "ax2.legend()\n",
    "\n",
    "confusion_matrix = metrics.confusion_matrix(y_true=y_test, y_pred=np.round(model.predict(X_test)))\n",
    "heatmap(confusion_matrix, annot = True, cmap='Blues', fmt='g', ax = ax3);"
   ]
  },
  {
   "cell_type": "markdown",
   "metadata": {},
   "source": [
    "## Assignment 10.4\n",
    "Using listing 6.46 in Deep Learning with Python as a guide, fit the same data with a simple 1D convnet. Produce the model performance metrics and training and validation accuracy curves within the Jupyter notebook."
   ]
  },
  {
   "cell_type": "code",
   "execution_count": 34,
   "metadata": {},
   "outputs": [
    {
     "name": "stdout",
     "output_type": "stream",
     "text": [
      "Model: \"sequential_2\"\n",
      "_________________________________________________________________\n",
      "Layer (type)                 Output Shape              Param #   \n",
      "=================================================================\n",
      "embedding_2 (Embedding)      (None, 2152, 100)         1000000   \n",
      "_________________________________________________________________\n",
      "conv1d (Conv1D)              (None, 2146, 32)          22432     \n",
      "_________________________________________________________________\n",
      "max_pooling1d (MaxPooling1D) (None, 429, 32)           0         \n",
      "_________________________________________________________________\n",
      "conv1d_1 (Conv1D)            (None, 423, 32)           7200      \n",
      "_________________________________________________________________\n",
      "global_max_pooling1d (Global (None, 32)                0         \n",
      "_________________________________________________________________\n",
      "dense_3 (Dense)              (None, 1)                 33        \n",
      "=================================================================\n",
      "Total params: 1,029,665\n",
      "Trainable params: 1,029,665\n",
      "Non-trainable params: 0\n",
      "_________________________________________________________________\n",
      "Epoch 1/10\n",
      "192/192 [==============================] - 183s 941ms/step - loss: 0.6928 - acc: 0.5127 - val_loss: 0.6932 - val_acc: 0.4700\n",
      "Epoch 2/10\n",
      "192/192 [==============================] - 169s 882ms/step - loss: 0.6879 - acc: 0.5874 - val_loss: 0.6860 - val_acc: 0.6760\n",
      "Epoch 3/10\n",
      "192/192 [==============================] - 167s 870ms/step - loss: 0.6774 - acc: 0.7796 - val_loss: 0.6600 - val_acc: 0.7000\n",
      "Epoch 4/10\n",
      "192/192 [==============================] - 167s 869ms/step - loss: 0.6326 - acc: 0.7873 - val_loss: 0.5587 - val_acc: 0.7800\n",
      "Epoch 5/10\n",
      "192/192 [==============================] - 168s 873ms/step - loss: 0.5091 - acc: 0.8278 - val_loss: 0.4263 - val_acc: 0.8260\n",
      "Epoch 6/10\n",
      "192/192 [==============================] - 170s 883ms/step - loss: 0.3797 - acc: 0.8573 - val_loss: 0.3419 - val_acc: 0.8640\n",
      "Epoch 7/10\n",
      "192/192 [==============================] - 169s 880ms/step - loss: 0.3118 - acc: 0.8769 - val_loss: 0.3053 - val_acc: 0.8680\n",
      "Epoch 8/10\n",
      "192/192 [==============================] - 168s 876ms/step - loss: 0.2770 - acc: 0.8906 - val_loss: 0.2824 - val_acc: 0.8760\n",
      "Epoch 9/10\n",
      "192/192 [==============================] - 167s 872ms/step - loss: 0.2511 - acc: 0.9011 - val_loss: 0.2709 - val_acc: 0.8920\n",
      "Epoch 10/10\n",
      "192/192 [==============================] - 168s 877ms/step - loss: 0.2346 - acc: 0.9107 - val_loss: 0.2694 - val_acc: 0.8960\n"
     ]
    }
   ],
   "source": [
    "from keras.models import Sequential\n",
    "from keras import layers\n",
    "from keras.optimizers import RMSprop\n",
    "\n",
    "max_features = 10000\n",
    "\n",
    "model = Sequential()\n",
    "model.add(Embedding(MAX_WORDS, \n",
    "                    EMBEDDING_DIM, \n",
    "                    input_length=X_train.shape[1]))\n",
    "model.add(layers.Conv1D(32, 7, activation='relu'))\n",
    "model.add(layers.MaxPooling1D(5))\n",
    "model.add(layers.Conv1D(32, 7, activation='relu'))\n",
    "model.add(layers.GlobalMaxPooling1D())\n",
    "model.add(layers.Dense(1, activation='sigmoid'))\n",
    "model.summary()\n",
    "\n",
    "\n",
    "model.compile(optimizer=RMSprop(learning_rate=1e-4),\n",
    "              loss='binary_crossentropy',\n",
    "              metrics=['acc'])\n",
    "history = model.fit(X_train, y_train,\n",
    "                    epochs=10,\n",
    "                    batch_size=128,\n",
    "                    validation_data=(X_val, y_val))"
   ]
  },
  {
   "cell_type": "code",
   "execution_count": 35,
   "metadata": {},
   "outputs": [
    {
     "name": "stdout",
     "output_type": "stream",
     "text": [
      "782/782 [==============================] - 45s 58ms/step - loss: 0.3138 - acc: 0.8654\n"
     ]
    },
    {
     "data": {
      "text/plain": [
       "[0.31377503275871277, 0.8654400110244751]"
      ]
     },
     "execution_count": 35,
     "metadata": {},
     "output_type": "execute_result"
    }
   ],
   "source": [
    "model.evaluate(X_test,y_test)"
   ]
  },
  {
   "cell_type": "code",
   "execution_count": 46,
   "metadata": {},
   "outputs": [],
   "source": [
    "history_dict = history.history\n",
    "\n",
    "acc = history_dict['acc']\n",
    "val_acc = history_dict['val_acc']\n",
    "loss_values = history_dict['loss']\n",
    "val_loss_values = history_dict['val_loss']\n",
    "epochs = range(1,len(acc) + 1)\n",
    "confusion_matrix = metrics.confusion_matrix(y_true=y_test, y_pred=np.round(model.predict(X_test)))"
   ]
  },
  {
   "cell_type": "code",
   "execution_count": 66,
   "metadata": {
    "scrolled": true
   },
   "outputs": [
    {
     "data": {
      "image/png": "[encoded data removed]",
      "text/plain": [
       "<Figure size 1152x288 with 4 Axes>"
      ]
     },
     "metadata": {},
     "output_type": "display_data"
    }
   ],
   "source": [
    "history_dict = history.history\n",
    "\n",
    "acc = history_dict['acc']\n",
    "val_acc = history_dict['val_acc']\n",
    "loss_values = history_dict['loss']\n",
    "val_loss_values = history_dict['val_loss']\n",
    "epochs = range(1,len(acc) + 1)\n",
    "\n",
    "# Plotting metrics\n",
    "fig, [ax1, ax2, ax3] = plt.subplots(1,3, figsize=(16,4))\n",
    "\n",
    "ax1.plot(epochs, loss_values,  'g--', label = 'Training Loss')\n",
    "ax1.plot(epochs, val_loss_values, 'b', label = 'Validation loss')\n",
    "ax1.set_title('Training and Validation Loss')\n",
    "ax1.set_xlabel(\"Epochs\")\n",
    "ax1.set_ylabel(\"Loss\")\n",
    "ax1.legend()\n",
    "\n",
    "ax2.plot(epochs, acc,  'g--', label = 'Training accuracy')\n",
    "ax2.plot(epochs, val_acc, 'b', label = 'Validation accuracy')\n",
    "ax2.set_title('Training and Validation Accuracy')\n",
    "ax2.set_xlabel(\"Epochs\")\n",
    "ax2.set_ylabel(\"Accuracy\")\n",
    "ax2.legend()\n",
    "\n",
    "confusion_matrix = metrics.confusion_matrix(y_true=y_test, y_pred=np.round(model.predict(X_test)))\n",
    "heatmap(confusion_matrix, annot = True, cmap='Blues', fmt='g', ax = ax3);"
   ]
  },
  {
   "cell_type": "code",
   "execution_count": null,
   "metadata": {},
   "outputs": [],
   "source": []
  },
  {
   "cell_type": "code",
   "execution_count": null,
   "metadata": {},
   "outputs": [],
   "source": []
  },
  {
   "cell_type": "code",
   "execution_count": null,
   "metadata": {},
   "outputs": [],
   "source": []
  }
 ],
 "metadata": {
  "kernelspec": {
   "display_name": "Python 3",
   "language": "python",
   "name": "python3"
  },
  "language_info": {
   "codemirror_mode": {
    "name": "ipython",
    "version": 3
   },
   "file_extension": ".py",
   "mimetype": "text/x-python",
   "name": "python",
   "nbconvert_exporter": "python",
   "pygments_lexer": "ipython3",
   "version": "3.7.11"
  }
 },
 "nbformat": 4,
 "nbformat_minor": 4
}
